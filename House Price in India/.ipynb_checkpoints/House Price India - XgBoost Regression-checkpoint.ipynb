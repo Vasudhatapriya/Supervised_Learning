{
 "cells": [
  {
   "cell_type": "code",
   "execution_count": 1,
   "metadata": {},
   "outputs": [],
   "source": [
    "import numpy as np\n",
    "import pandas as pd\n",
    "\n",
    "from sklearn.model_selection import train_test_split\n",
    "from sklearn.pipeline import Pipeline\n",
    "from sklearn.compose import ColumnTransformer\n",
    "\n",
    "from jcopml.pipeline import num_pipe, cat_pipe\n",
    "from jcopml.utils import save_model, load_model\n",
    "from jcopml.plot import plot_missing_value, plot_residual\n",
    "from jcopml.feature_importance import mean_score_decrease\n",
    "\n",
    "import matplotlib.pyplot as plt\n",
    "import seaborn as sns"
   ]
  },
  {
   "cell_type": "markdown",
   "metadata": {},
   "source": [
    "# Import Datasets"
   ]
  },
  {
   "cell_type": "code",
   "execution_count": 2,
   "metadata": {
    "scrolled": true
   },
   "outputs": [
    {
     "data": {
      "text/html": [
       "<div>\n",
       "<style scoped>\n",
       "    .dataframe tbody tr th:only-of-type {\n",
       "        vertical-align: middle;\n",
       "    }\n",
       "\n",
       "    .dataframe tbody tr th {\n",
       "        vertical-align: top;\n",
       "    }\n",
       "\n",
       "    .dataframe thead th {\n",
       "        text-align: right;\n",
       "    }\n",
       "</style>\n",
       "<table border=\"1\" class=\"dataframe\">\n",
       "  <thead>\n",
       "    <tr style=\"text-align: right;\">\n",
       "      <th></th>\n",
       "      <th>Price</th>\n",
       "      <th>Area</th>\n",
       "      <th>Location</th>\n",
       "      <th>No. of Bedrooms</th>\n",
       "      <th>Resale</th>\n",
       "      <th>MaintenanceStaff</th>\n",
       "      <th>Gymnasium</th>\n",
       "      <th>SwimmingPool</th>\n",
       "      <th>LandscapedGardens</th>\n",
       "      <th>JoggingTrack</th>\n",
       "      <th>...</th>\n",
       "      <th>LiftAvailable</th>\n",
       "      <th>BED</th>\n",
       "      <th>VaastuCompliant</th>\n",
       "      <th>Microwave</th>\n",
       "      <th>GolfCourse</th>\n",
       "      <th>TV</th>\n",
       "      <th>DiningTable</th>\n",
       "      <th>Sofa</th>\n",
       "      <th>Wardrobe</th>\n",
       "      <th>Refrigerator</th>\n",
       "    </tr>\n",
       "  </thead>\n",
       "  <tbody>\n",
       "    <tr>\n",
       "      <th>0</th>\n",
       "      <td>30000000</td>\n",
       "      <td>3340</td>\n",
       "      <td>JP Nagar Phase 1</td>\n",
       "      <td>4</td>\n",
       "      <td>0</td>\n",
       "      <td>1</td>\n",
       "      <td>1</td>\n",
       "      <td>1</td>\n",
       "      <td>1</td>\n",
       "      <td>1</td>\n",
       "      <td>...</td>\n",
       "      <td>1</td>\n",
       "      <td>0</td>\n",
       "      <td>0</td>\n",
       "      <td>0</td>\n",
       "      <td>0</td>\n",
       "      <td>0</td>\n",
       "      <td>0</td>\n",
       "      <td>0</td>\n",
       "      <td>0</td>\n",
       "      <td>0</td>\n",
       "    </tr>\n",
       "    <tr>\n",
       "      <th>1</th>\n",
       "      <td>7888000</td>\n",
       "      <td>1045</td>\n",
       "      <td>Dasarahalli on Tumkur Road</td>\n",
       "      <td>2</td>\n",
       "      <td>0</td>\n",
       "      <td>0</td>\n",
       "      <td>1</td>\n",
       "      <td>1</td>\n",
       "      <td>1</td>\n",
       "      <td>1</td>\n",
       "      <td>...</td>\n",
       "      <td>1</td>\n",
       "      <td>0</td>\n",
       "      <td>1</td>\n",
       "      <td>0</td>\n",
       "      <td>0</td>\n",
       "      <td>0</td>\n",
       "      <td>0</td>\n",
       "      <td>0</td>\n",
       "      <td>0</td>\n",
       "      <td>0</td>\n",
       "    </tr>\n",
       "    <tr>\n",
       "      <th>2</th>\n",
       "      <td>4866000</td>\n",
       "      <td>1179</td>\n",
       "      <td>Kannur on Thanisandra Main Road</td>\n",
       "      <td>2</td>\n",
       "      <td>0</td>\n",
       "      <td>0</td>\n",
       "      <td>1</td>\n",
       "      <td>1</td>\n",
       "      <td>1</td>\n",
       "      <td>1</td>\n",
       "      <td>...</td>\n",
       "      <td>1</td>\n",
       "      <td>0</td>\n",
       "      <td>0</td>\n",
       "      <td>0</td>\n",
       "      <td>0</td>\n",
       "      <td>0</td>\n",
       "      <td>0</td>\n",
       "      <td>0</td>\n",
       "      <td>0</td>\n",
       "      <td>0</td>\n",
       "    </tr>\n",
       "    <tr>\n",
       "      <th>3</th>\n",
       "      <td>8358000</td>\n",
       "      <td>1675</td>\n",
       "      <td>Doddanekundi</td>\n",
       "      <td>3</td>\n",
       "      <td>0</td>\n",
       "      <td>0</td>\n",
       "      <td>0</td>\n",
       "      <td>0</td>\n",
       "      <td>0</td>\n",
       "      <td>0</td>\n",
       "      <td>...</td>\n",
       "      <td>1</td>\n",
       "      <td>0</td>\n",
       "      <td>0</td>\n",
       "      <td>0</td>\n",
       "      <td>0</td>\n",
       "      <td>0</td>\n",
       "      <td>0</td>\n",
       "      <td>0</td>\n",
       "      <td>0</td>\n",
       "      <td>0</td>\n",
       "    </tr>\n",
       "    <tr>\n",
       "      <th>4</th>\n",
       "      <td>6845000</td>\n",
       "      <td>1670</td>\n",
       "      <td>Kengeri</td>\n",
       "      <td>3</td>\n",
       "      <td>0</td>\n",
       "      <td>1</td>\n",
       "      <td>1</td>\n",
       "      <td>1</td>\n",
       "      <td>1</td>\n",
       "      <td>1</td>\n",
       "      <td>...</td>\n",
       "      <td>1</td>\n",
       "      <td>0</td>\n",
       "      <td>0</td>\n",
       "      <td>0</td>\n",
       "      <td>0</td>\n",
       "      <td>0</td>\n",
       "      <td>0</td>\n",
       "      <td>0</td>\n",
       "      <td>0</td>\n",
       "      <td>0</td>\n",
       "    </tr>\n",
       "  </tbody>\n",
       "</table>\n",
       "<p>5 rows × 40 columns</p>\n",
       "</div>"
      ],
      "text/plain": [
       "      Price  Area                         Location  No. of Bedrooms  Resale  \\\n",
       "0  30000000  3340                 JP Nagar Phase 1                4       0   \n",
       "1   7888000  1045       Dasarahalli on Tumkur Road                2       0   \n",
       "2   4866000  1179  Kannur on Thanisandra Main Road                2       0   \n",
       "3   8358000  1675                     Doddanekundi                3       0   \n",
       "4   6845000  1670                          Kengeri                3       0   \n",
       "\n",
       "   MaintenanceStaff  Gymnasium  SwimmingPool  LandscapedGardens  JoggingTrack  \\\n",
       "0                 1          1             1                  1             1   \n",
       "1                 0          1             1                  1             1   \n",
       "2                 0          1             1                  1             1   \n",
       "3                 0          0             0                  0             0   \n",
       "4                 1          1             1                  1             1   \n",
       "\n",
       "   ...  LiftAvailable  BED  VaastuCompliant  Microwave  GolfCourse  TV  \\\n",
       "0  ...              1    0                0          0           0   0   \n",
       "1  ...              1    0                1          0           0   0   \n",
       "2  ...              1    0                0          0           0   0   \n",
       "3  ...              1    0                0          0           0   0   \n",
       "4  ...              1    0                0          0           0   0   \n",
       "\n",
       "   DiningTable  Sofa  Wardrobe  Refrigerator  \n",
       "0            0     0         0             0  \n",
       "1            0     0         0             0  \n",
       "2            0     0         0             0  \n",
       "3            0     0         0             0  \n",
       "4            0     0         0             0  \n",
       "\n",
       "[5 rows x 40 columns]"
      ]
     },
     "execution_count": 2,
     "metadata": {},
     "output_type": "execute_result"
    }
   ],
   "source": [
    "bangalore = pd.read_csv(\"datasets/Bangalore.csv\")\n",
    "chennai = pd.read_csv(\"datasets/Chennai.csv\")\n",
    "\n",
    "# gabungkan file tersebut dan namai dengan df\n",
    "df = pd.concat([bangalore, chennai])\n",
    "\n",
    "# bikin index ulang.\n",
    "df = df.reset_index()\n",
    "\n",
    "# hapus colom index lama.\n",
    "df.drop(columns=\"index\", inplace=True)\n",
    "\n",
    "# tampilkan 5 data\n",
    "df.head()"
   ]
  },
  {
   "cell_type": "markdown",
   "metadata": {},
   "source": [
    "# Cek Data Bolong"
   ]
  },
  {
   "cell_type": "code",
   "execution_count": null,
   "metadata": {},
   "outputs": [],
   "source": [
    "df.isna().sum()"
   ]
  },
  {
   "cell_type": "markdown",
   "metadata": {},
   "source": [
    "# Visualize\n",
    "### Data Target"
   ]
  },
  {
   "cell_type": "code",
   "execution_count": null,
   "metadata": {},
   "outputs": [],
   "source": [
    "plt.figure(figsize=(10, 4))\n",
    "ax = sns.distplot(df[\"Price\"], bins=100)\n",
    "plt.show()"
   ]
  },
  {
   "cell_type": "markdown",
   "metadata": {},
   "source": [
    "### Data kolom Area"
   ]
  },
  {
   "cell_type": "code",
   "execution_count": null,
   "metadata": {},
   "outputs": [],
   "source": [
    "plt.figure(figsize=(10, 4))\n",
    "ax = sns.distplot(df[\"Price\"], bins=100, color='r')\n",
    "plt.show()"
   ]
  },
  {
   "cell_type": "markdown",
   "metadata": {},
   "source": [
    "# Datasets Splitting"
   ]
  },
  {
   "cell_type": "code",
   "execution_count": 3,
   "metadata": {},
   "outputs": [
    {
     "data": {
      "text/plain": [
       "((8976, 39), (2245, 39), (8976,), (2245,))"
      ]
     },
     "execution_count": 3,
     "metadata": {},
     "output_type": "execute_result"
    }
   ],
   "source": [
    "X = df.drop(columns=\"Price\")\n",
    "y = df[\"Price\"]\n",
    "\n",
    "X_train, X_test, y_train, y_test = train_test_split(X, y, test_size=0.2, random_state=42)\n",
    "X_train.shape, X_test.shape, y_train.shape, y_test.shape"
   ]
  },
  {
   "cell_type": "markdown",
   "metadata": {},
   "source": [
    "# Think Simple\n",
    "### Preprocessor"
   ]
  },
  {
   "cell_type": "code",
   "execution_count": 4,
   "metadata": {},
   "outputs": [],
   "source": [
    "from xgboost import XGBRegressor"
   ]
  },
  {
   "cell_type": "code",
   "execution_count": null,
   "metadata": {},
   "outputs": [],
   "source": [
    "preprocessor = ColumnTransformer([\n",
    "    ('numeric', num_pipe(), [\"Area\", \"No. of Bedrooms\"]),\n",
    "    ('categoric', cat_pipe(encoder='onehot'), [\"Location\",'Resale', 'MaintenanceStaff', 'Gymnasium', 'SwimmingPool',\n",
    "                                               'LandscapedGardens', 'JoggingTrack', 'RainWaterHarvesting', 'IndoorGames',\n",
    "                                               'ShoppingMall', 'Intercom', 'SportsFacility', 'ATM', 'ClubHouse', 'School',\n",
    "                                               '24X7Security', 'PowerBackup', 'CarParking', 'StaffQuarter', 'Cafeteria',\n",
    "                                               'MultipurposeRoom', 'Hospital', 'WashingMachine', 'Gasconnection', 'AC', 'Wifi',\n",
    "                                               \"Children'splayarea\", 'LiftAvailable', 'BED', 'VaastuCompliant', 'Microwave',\n",
    "                                               'GolfCourse', 'TV', 'DiningTable', 'Sofa', 'Wardrobe', 'Refrigerator']),\n",
    "])\n",
    "\n",
    "pipeline = Pipeline([\n",
    "    ('prep', preprocessor),\n",
    "    ('algo', XGBRegressor(n_jobs=-1, random_state=42))\n",
    "])"
   ]
  },
  {
   "cell_type": "markdown",
   "metadata": {},
   "source": [
    "### Training"
   ]
  },
  {
   "cell_type": "code",
   "execution_count": 5,
   "metadata": {},
   "outputs": [],
   "source": [
    "from sklearn.model_selection import RandomizedSearchCV\n",
    "from jcopml.tuning import random_search_params as rsp"
   ]
  },
  {
   "cell_type": "code",
   "execution_count": null,
   "metadata": {},
   "outputs": [],
   "source": [
    "model = RandomizedSearchCV(pipeline, rsp.xgb_params , cv=3, n_iter=20, n_jobs=-1, verbose=1, random_state=42)\n",
    "model.fit(X_train, y_train)\n",
    "\n",
    "print(model.best_params_)\n",
    "print(model.score(X_train, y_train), model.best_score_, model.score(X_test, y_test))"
   ]
  },
  {
   "cell_type": "markdown",
   "metadata": {},
   "source": [
    "# Feature Importance"
   ]
  },
  {
   "cell_type": "code",
   "execution_count": null,
   "metadata": {},
   "outputs": [],
   "source": [
    "df_imp = mean_score_decrease(X_train, y_train, model, plot=True, topk=10)"
   ]
  },
  {
   "cell_type": "markdown",
   "metadata": {},
   "source": [
    "# Reduce columns\n",
    "### Preprocessor - Training"
   ]
  },
  {
   "cell_type": "code",
   "execution_count": null,
   "metadata": {},
   "outputs": [],
   "source": [
    "preprocessor = ColumnTransformer([\n",
    "    ('numeric', num_pipe(), [\"Area\", \"No. of Bedrooms\"]),\n",
    "    ('categoric', cat_pipe(encoder='onehot'), [\"Location\",'Resale', 'MaintenanceStaff', 'ATM', 'Cafeteria'])\n",
    "])\n",
    "\n",
    "pipeline = Pipeline([\n",
    "    ('prep', preprocessor),\n",
    "    ('algo', XGBRegressor(n_jobs=-1, random_state=42))\n",
    "])\n",
    "\n",
    "model = RandomizedSearchCV(pipeline, rsp.xgb_params , cv=3, n_iter=30, n_jobs=-1, verbose=1, random_state=42)\n",
    "model.fit(X_train, y_train)\n",
    "\n",
    "print(model.best_params_)\n",
    "print(model.score(X_train, y_train), model.best_score_, model.score(X_test, y_test))"
   ]
  },
  {
   "cell_type": "markdown",
   "metadata": {},
   "source": [
    "# Tuning\n",
    "### Preprocessor - Training"
   ]
  },
  {
   "cell_type": "code",
   "execution_count": 6,
   "metadata": {},
   "outputs": [],
   "source": [
    "from jcopml.tuning.space import Integer, Real"
   ]
  },
  {
   "cell_type": "code",
   "execution_count": null,
   "metadata": {},
   "outputs": [],
   "source": [
    "parameter_tune = {\n",
    "    'prep__numeric__poly__degree': Integer(low=1, high=3),\n",
    "    'prep__numeric__poly__interaction_only': [True, False],\n",
    "    'algo__max_depth': Integer(low=1, high=10),\n",
    "    'algo__learning_rate': Real(low=-2, high=0, prior='log-uniform'),\n",
    "    'algo__n_estimators': Integer(low=100, high=200),\n",
    "    'algo__subsample': Real(low=0.3, high=0.8, prior='uniform'),\n",
    "    'algo__gamma': Integer(low=1, high=10),\n",
    "    'algo__colsample_bytree': Real(low=0.1, high=1, prior='uniform'),\n",
    "    'algo__reg_alpha': Real(low=-3, high=1, prior='log-uniform'),\n",
    "    'algo__reg_lambda': Real(low=-3, high=1, prior='log-uniform')\n",
    "}"
   ]
  },
  {
   "cell_type": "code",
   "execution_count": null,
   "metadata": {},
   "outputs": [],
   "source": [
    "preprocessor = ColumnTransformer([\n",
    "    ('numeric', num_pipe(poly=2), [\"Area\", \"No. of Bedrooms\"]),\n",
    "    ('categoric', cat_pipe(encoder='onehot'), [\"Location\",'Resale', 'MaintenanceStaff', 'ATM', 'Cafeteria'])\n",
    "])\n",
    "\n",
    "pipeline = Pipeline([\n",
    "    ('prep', preprocessor),\n",
    "    ('algo', XGBRegressor(n_jobs=-1, random_state=42))\n",
    "])\n",
    "\n",
    "model = RandomizedSearchCV(pipeline, parameter_tune , cv=3, n_iter=40, n_jobs=-1, verbose=1, random_state=42)\n",
    "model.fit(X_train, y_train)\n",
    "\n",
    "print(model.best_params_)\n",
    "print(model.score(X_train, y_train), model.best_score_, model.score(X_test, y_test))"
   ]
  },
  {
   "cell_type": "markdown",
   "metadata": {},
   "source": [
    "# Tuning part 2"
   ]
  },
  {
   "cell_type": "code",
   "execution_count": null,
   "metadata": {},
   "outputs": [],
   "source": [
    "preprocessor = ColumnTransformer([\n",
    "    ('numeric', num_pipe(poly=2, scaling='minmax', transform='yeo-johnson'), [\"Area\", \"No. of Bedrooms\"]),\n",
    "    ('categoric', cat_pipe(encoder='onehot'), [\"Location\",'Resale', 'MaintenanceStaff', 'ATM', 'Cafeteria'])\n",
    "])\n",
    "\n",
    "pipeline = Pipeline([\n",
    "    ('prep', preprocessor),\n",
    "    ('algo', XGBRegressor(n_jobs=-1, random_state=42))\n",
    "])\n",
    "\n",
    "parameter_tune = {\n",
    "    'prep__numeric__poly__degree': Integer(low=1, high=3),\n",
    "    'prep__numeric__poly__interaction_only': [True, False],\n",
    "    'algo__max_depth': Integer(low=1, high=10),\n",
    "    'algo__learning_rate': Real(low=-2, high=0, prior='log-uniform'),\n",
    "    'algo__n_estimators': Integer(low=100, high=200),\n",
    "    'algo__subsample': Real(low=0.3, high=0.8, prior='uniform'),\n",
    "    'algo__gamma': Integer(low=1, high=10),\n",
    "    'algo__colsample_bytree': Real(low=0.1, high=1, prior='uniform'),\n",
    "    'algo__reg_alpha': Real(low=-3, high=1, prior='log-uniform'),\n",
    "    'algo__reg_lambda': Real(low=-3, high=1, prior='log-uniform')\n",
    "}\n",
    "\n",
    "model = RandomizedSearchCV(pipeline, parameter_tune , cv=3, n_iter=40, n_jobs=-1, verbose=1, random_state=42)\n",
    "model.fit(X_train, y_train)\n",
    "\n",
    "print(model.best_params_)\n",
    "print(model.score(X_train, y_train), model.best_score_, model.score(X_test, y_test))"
   ]
  },
  {
   "cell_type": "markdown",
   "metadata": {},
   "source": [
    "# Tuning part 3\n",
    "Preprocessor - Training"
   ]
  },
  {
   "cell_type": "code",
   "execution_count": null,
   "metadata": {
    "scrolled": true
   },
   "outputs": [],
   "source": [
    "preprocessor = ColumnTransformer([\n",
    "    ('numeric', num_pipe(poly=2, scaling='standard', transform ='yeo-johnson'), [\"Area\", \"No. of Bedrooms\"]),\n",
    "    ('categoric', cat_pipe(encoder='onehot'), [\"Location\",'Resale', 'MaintenanceStaff', 'ATM', 'Cafeteria'])\n",
    "])\n",
    "\n",
    "pipeline = Pipeline([\n",
    "    ('prep', preprocessor),\n",
    "    ('algo', XGBRegressor(n_jobs=-1, random_state=42))\n",
    "])\n",
    "\n",
    "parameter_tune = {\n",
    "    'prep__numeric__poly__degree': Integer(low=2, high=3),\n",
    "    'prep__numeric__poly__interaction_only': [True, False],\n",
    "    'algo__max_depth': Integer(low=8, high=15),\n",
    "    'algo__learning_rate': Real(low=-1, high=0, prior='log-uniform'),\n",
    "    'algo__n_estimators': Integer(low=50, high=55),\n",
    "    'algo__subsample': Real(low=0.6, high=0.95, prior='uniform'),\n",
    "    'algo__gamma': Integer(low=1, high=2),\n",
    "    'algo__colsample_bytree': Real(low=0.6, high=0.95, prior='uniform'),\n",
    "    'algo__reg_alpha': Real(low=-1, high=1, prior='log-uniform'),\n",
    "    'algo__reg_lambda': Real(low=-1, high=1, prior='log-uniform')\n",
    "}\n",
    "\n",
    "model = RandomizedSearchCV(pipeline, parameter_tune , cv=3, n_iter=80, n_jobs=-1, verbose=1, random_state=42)\n",
    "model.fit(X_train, y_train)\n",
    "\n",
    "print(model.best_params_)\n",
    "print(model.score(X_train, y_train), model.best_score_, model.score(X_test, y_test))"
   ]
  },
  {
   "cell_type": "markdown",
   "metadata": {},
   "source": [
    "# Tuning Part 4"
   ]
  },
  {
   "cell_type": "code",
   "execution_count": null,
   "metadata": {},
   "outputs": [],
   "source": [
    "preprocessor = ColumnTransformer([\n",
    "    ('numeric', num_pipe(poly=2, scaling='robust', transform ='yeo-johnson'), [\"Area\", \"No. of Bedrooms\"]),\n",
    "    ('categoric', cat_pipe(encoder='onehot'), [\"Location\",'Resale', 'MaintenanceStaff', 'ATM', 'Cafeteria'])\n",
    "])\n",
    "\n",
    "pipeline = Pipeline([\n",
    "    ('prep', preprocessor),\n",
    "    ('algo', XGBRegressor(n_jobs=-1, random_state=42))\n",
    "])\n",
    "\n",
    "parameter_tune = {\n",
    "    'prep__numeric__poly__degree': Integer(low=2, high=3),\n",
    "    'prep__numeric__poly__interaction_only': [True, False],\n",
    "    'algo__max_depth': Integer(low=8, high=15),\n",
    "    'algo__learning_rate': Real(low=-1, high=0, prior='log-uniform'),\n",
    "    'algo__n_estimators': Integer(low=50, high=55),\n",
    "    'algo__subsample': Real(low=0.6, high=0.95, prior='uniform'),\n",
    "    'algo__gamma': Integer(low=3, high=4),\n",
    "    'algo__colsample_bytree': Real(low=0.6, high=0.95, prior='uniform'),\n",
    "    'algo__reg_alpha': Real(low=-1, high=1, prior='log-uniform'),\n",
    "    'algo__reg_lambda': Real(low=-1, high=1, prior='log-uniform')\n",
    "}\n",
    "\n",
    "model = RandomizedSearchCV(pipeline, parameter_tune , cv=3, n_iter=100, n_jobs=-1, verbose=1, random_state=42)\n",
    "model.fit(X_train, y_train)\n",
    "\n",
    "print(model.best_params_)\n",
    "print(model.score(X_train, y_train), model.best_score_, model.score(X_test, y_test))"
   ]
  },
  {
   "cell_type": "markdown",
   "metadata": {},
   "source": [
    "# Tuning Part 5"
   ]
  },
  {
   "cell_type": "code",
   "execution_count": 29,
   "metadata": {},
   "outputs": [],
   "source": [
    "preprocessor = ColumnTransformer([\n",
    "    ('numeric', num_pipe(poly=2, scaling='robust'), [\"Area\", \"No. of Bedrooms\"]),\n",
    "    ('categoric', cat_pipe(encoder='onehot'), [\"Location\",'Resale', 'MaintenanceStaff', 'Gymnasium', 'SwimmingPool',\n",
    "                                               'LandscapedGardens', 'JoggingTrack', 'RainWaterHarvesting', 'IndoorGames',\n",
    "                                               'ShoppingMall', 'Intercom', 'SportsFacility', 'ATM', 'ClubHouse', 'School',\n",
    "                                               '24X7Security', 'PowerBackup', 'CarParking', 'StaffQuarter', 'Cafeteria',\n",
    "                                               'MultipurposeRoom', 'Hospital', 'WashingMachine', 'Gasconnection', 'AC', 'Wifi',\n",
    "                                               \"Children'splayarea\", 'LiftAvailable', 'BED', 'VaastuCompliant', 'Microwave',\n",
    "                                               'GolfCourse', 'TV', 'DiningTable', 'Sofa', 'Wardrobe', 'Refrigerator']),\n",
    "])\n",
    "\n",
    "pipeline = Pipeline([\n",
    "    ('prep', preprocessor),\n",
    "    ('algo', XGBRegressor(n_jobs=-1, random_state=42))\n",
    "])"
   ]
  },
  {
   "cell_type": "code",
   "execution_count": 30,
   "metadata": {
    "scrolled": true
   },
   "outputs": [
    {
     "data": {
      "text/plain": [
       "{'memory': None,\n",
       " 'steps': [('prep',\n",
       "   ColumnTransformer(n_jobs=None, remainder='drop', sparse_threshold=0.3,\n",
       "                     transformer_weights=None,\n",
       "                     transformers=[('numeric',\n",
       "                                    Pipeline(memory=None,\n",
       "                                             steps=[('imputer',\n",
       "                                                     SimpleImputer(add_indicator=False,\n",
       "                                                                   copy=True,\n",
       "                                                                   fill_value=None,\n",
       "                                                                   missing_values=nan,\n",
       "                                                                   strategy='median',\n",
       "                                                                   verbose=0)),\n",
       "                                                    ('poly',\n",
       "                                                     PolynomialFeatures(degree=2,\n",
       "                                                                        include_bias=True,\n",
       "                                                                        interaction_only=False,\n",
       "                                                                        order='...\n",
       "                                     'LandscapedGardens', 'JoggingTrack',\n",
       "                                     'RainWaterHarvesting', 'IndoorGames',\n",
       "                                     'ShoppingMall', 'Intercom', 'SportsFacility',\n",
       "                                     'ATM', 'ClubHouse', 'School', '24X7Security',\n",
       "                                     'PowerBackup', 'CarParking', 'StaffQuarter',\n",
       "                                     'Cafeteria', 'MultipurposeRoom', 'Hospital',\n",
       "                                     'WashingMachine', 'Gasconnection', 'AC',\n",
       "                                     'Wifi', \"Children'splayarea\", 'LiftAvailable',\n",
       "                                     'BED', 'VaastuCompliant', ...])],\n",
       "                     verbose=False)),\n",
       "  ('algo',\n",
       "   XGBRegressor(base_score=0.5, booster='gbtree', colsample_bylevel=1,\n",
       "                colsample_bynode=1, colsample_bytree=1, gamma=0,\n",
       "                importance_type='gain', learning_rate=0.1, max_delta_step=0,\n",
       "                max_depth=3, min_child_weight=1, missing=None, n_estimators=100,\n",
       "                n_jobs=-1, nthread=None, objective='reg:linear', random_state=42,\n",
       "                reg_alpha=0, reg_lambda=1, scale_pos_weight=1, seed=None,\n",
       "                silent=None, subsample=1, verbosity=1))],\n",
       " 'verbose': False,\n",
       " 'prep': ColumnTransformer(n_jobs=None, remainder='drop', sparse_threshold=0.3,\n",
       "                   transformer_weights=None,\n",
       "                   transformers=[('numeric',\n",
       "                                  Pipeline(memory=None,\n",
       "                                           steps=[('imputer',\n",
       "                                                   SimpleImputer(add_indicator=False,\n",
       "                                                                 copy=True,\n",
       "                                                                 fill_value=None,\n",
       "                                                                 missing_values=nan,\n",
       "                                                                 strategy='median',\n",
       "                                                                 verbose=0)),\n",
       "                                                  ('poly',\n",
       "                                                   PolynomialFeatures(degree=2,\n",
       "                                                                      include_bias=True,\n",
       "                                                                      interaction_only=False,\n",
       "                                                                      order='...\n",
       "                                   'LandscapedGardens', 'JoggingTrack',\n",
       "                                   'RainWaterHarvesting', 'IndoorGames',\n",
       "                                   'ShoppingMall', 'Intercom', 'SportsFacility',\n",
       "                                   'ATM', 'ClubHouse', 'School', '24X7Security',\n",
       "                                   'PowerBackup', 'CarParking', 'StaffQuarter',\n",
       "                                   'Cafeteria', 'MultipurposeRoom', 'Hospital',\n",
       "                                   'WashingMachine', 'Gasconnection', 'AC',\n",
       "                                   'Wifi', \"Children'splayarea\", 'LiftAvailable',\n",
       "                                   'BED', 'VaastuCompliant', ...])],\n",
       "                   verbose=False),\n",
       " 'algo': XGBRegressor(base_score=0.5, booster='gbtree', colsample_bylevel=1,\n",
       "              colsample_bynode=1, colsample_bytree=1, gamma=0,\n",
       "              importance_type='gain', learning_rate=0.1, max_delta_step=0,\n",
       "              max_depth=3, min_child_weight=1, missing=None, n_estimators=100,\n",
       "              n_jobs=-1, nthread=None, objective='reg:linear', random_state=42,\n",
       "              reg_alpha=0, reg_lambda=1, scale_pos_weight=1, seed=None,\n",
       "              silent=None, subsample=1, verbosity=1),\n",
       " 'prep__n_jobs': None,\n",
       " 'prep__remainder': 'drop',\n",
       " 'prep__sparse_threshold': 0.3,\n",
       " 'prep__transformer_weights': None,\n",
       " 'prep__transformers': [('numeric',\n",
       "   Pipeline(memory=None,\n",
       "            steps=[('imputer',\n",
       "                    SimpleImputer(add_indicator=False, copy=True, fill_value=None,\n",
       "                                  missing_values=nan, strategy='median',\n",
       "                                  verbose=0)),\n",
       "                   ('poly',\n",
       "                    PolynomialFeatures(degree=2, include_bias=True,\n",
       "                                       interaction_only=False, order='C')),\n",
       "                   ('scaler',\n",
       "                    RobustScaler(copy=True, quantile_range=(25.0, 75.0),\n",
       "                                 with_centering=True, with_scaling=True))],\n",
       "            verbose=False),\n",
       "   ['Area', 'No. of Bedrooms']),\n",
       "  ('categoric',\n",
       "   Pipeline(memory=None,\n",
       "            steps=[('imputer',\n",
       "                    SimpleImputer(add_indicator=False, copy=True, fill_value=None,\n",
       "                                  missing_values=nan, strategy='most_frequent',\n",
       "                                  verbose=0)),\n",
       "                   ('onehot',\n",
       "                    OneHotEncoder(categories='auto', drop=None,\n",
       "                                  dtype=<class 'numpy.float64'>,\n",
       "                                  handle_unknown='ignore', sparse=True))],\n",
       "            verbose=False),\n",
       "   ['Location',\n",
       "    'Resale',\n",
       "    'MaintenanceStaff',\n",
       "    'Gymnasium',\n",
       "    'SwimmingPool',\n",
       "    'LandscapedGardens',\n",
       "    'JoggingTrack',\n",
       "    'RainWaterHarvesting',\n",
       "    'IndoorGames',\n",
       "    'ShoppingMall',\n",
       "    'Intercom',\n",
       "    'SportsFacility',\n",
       "    'ATM',\n",
       "    'ClubHouse',\n",
       "    'School',\n",
       "    '24X7Security',\n",
       "    'PowerBackup',\n",
       "    'CarParking',\n",
       "    'StaffQuarter',\n",
       "    'Cafeteria',\n",
       "    'MultipurposeRoom',\n",
       "    'Hospital',\n",
       "    'WashingMachine',\n",
       "    'Gasconnection',\n",
       "    'AC',\n",
       "    'Wifi',\n",
       "    \"Children'splayarea\",\n",
       "    'LiftAvailable',\n",
       "    'BED',\n",
       "    'VaastuCompliant',\n",
       "    'Microwave',\n",
       "    'GolfCourse',\n",
       "    'TV',\n",
       "    'DiningTable',\n",
       "    'Sofa',\n",
       "    'Wardrobe',\n",
       "    'Refrigerator'])],\n",
       " 'prep__verbose': False,\n",
       " 'prep__numeric': Pipeline(memory=None,\n",
       "          steps=[('imputer',\n",
       "                  SimpleImputer(add_indicator=False, copy=True, fill_value=None,\n",
       "                                missing_values=nan, strategy='median',\n",
       "                                verbose=0)),\n",
       "                 ('poly',\n",
       "                  PolynomialFeatures(degree=2, include_bias=True,\n",
       "                                     interaction_only=False, order='C')),\n",
       "                 ('scaler',\n",
       "                  RobustScaler(copy=True, quantile_range=(25.0, 75.0),\n",
       "                               with_centering=True, with_scaling=True))],\n",
       "          verbose=False),\n",
       " 'prep__categoric': Pipeline(memory=None,\n",
       "          steps=[('imputer',\n",
       "                  SimpleImputer(add_indicator=False, copy=True, fill_value=None,\n",
       "                                missing_values=nan, strategy='most_frequent',\n",
       "                                verbose=0)),\n",
       "                 ('onehot',\n",
       "                  OneHotEncoder(categories='auto', drop=None,\n",
       "                                dtype=<class 'numpy.float64'>,\n",
       "                                handle_unknown='ignore', sparse=True))],\n",
       "          verbose=False),\n",
       " 'prep__numeric__memory': None,\n",
       " 'prep__numeric__steps': [('imputer',\n",
       "   SimpleImputer(add_indicator=False, copy=True, fill_value=None,\n",
       "                 missing_values=nan, strategy='median', verbose=0)),\n",
       "  ('poly',\n",
       "   PolynomialFeatures(degree=2, include_bias=True, interaction_only=False,\n",
       "                      order='C')),\n",
       "  ('scaler',\n",
       "   RobustScaler(copy=True, quantile_range=(25.0, 75.0), with_centering=True,\n",
       "                with_scaling=True))],\n",
       " 'prep__numeric__verbose': False,\n",
       " 'prep__numeric__imputer': SimpleImputer(add_indicator=False, copy=True, fill_value=None,\n",
       "               missing_values=nan, strategy='median', verbose=0),\n",
       " 'prep__numeric__poly': PolynomialFeatures(degree=2, include_bias=True, interaction_only=False,\n",
       "                    order='C'),\n",
       " 'prep__numeric__scaler': RobustScaler(copy=True, quantile_range=(25.0, 75.0), with_centering=True,\n",
       "              with_scaling=True),\n",
       " 'prep__numeric__imputer__add_indicator': False,\n",
       " 'prep__numeric__imputer__copy': True,\n",
       " 'prep__numeric__imputer__fill_value': None,\n",
       " 'prep__numeric__imputer__missing_values': nan,\n",
       " 'prep__numeric__imputer__strategy': 'median',\n",
       " 'prep__numeric__imputer__verbose': 0,\n",
       " 'prep__numeric__poly__degree': 2,\n",
       " 'prep__numeric__poly__include_bias': True,\n",
       " 'prep__numeric__poly__interaction_only': False,\n",
       " 'prep__numeric__poly__order': 'C',\n",
       " 'prep__numeric__scaler__copy': True,\n",
       " 'prep__numeric__scaler__quantile_range': (25.0, 75.0),\n",
       " 'prep__numeric__scaler__with_centering': True,\n",
       " 'prep__numeric__scaler__with_scaling': True,\n",
       " 'prep__categoric__memory': None,\n",
       " 'prep__categoric__steps': [('imputer',\n",
       "   SimpleImputer(add_indicator=False, copy=True, fill_value=None,\n",
       "                 missing_values=nan, strategy='most_frequent', verbose=0)),\n",
       "  ('onehot',\n",
       "   OneHotEncoder(categories='auto', drop=None, dtype=<class 'numpy.float64'>,\n",
       "                 handle_unknown='ignore', sparse=True))],\n",
       " 'prep__categoric__verbose': False,\n",
       " 'prep__categoric__imputer': SimpleImputer(add_indicator=False, copy=True, fill_value=None,\n",
       "               missing_values=nan, strategy='most_frequent', verbose=0),\n",
       " 'prep__categoric__onehot': OneHotEncoder(categories='auto', drop=None, dtype=<class 'numpy.float64'>,\n",
       "               handle_unknown='ignore', sparse=True),\n",
       " 'prep__categoric__imputer__add_indicator': False,\n",
       " 'prep__categoric__imputer__copy': True,\n",
       " 'prep__categoric__imputer__fill_value': None,\n",
       " 'prep__categoric__imputer__missing_values': nan,\n",
       " 'prep__categoric__imputer__strategy': 'most_frequent',\n",
       " 'prep__categoric__imputer__verbose': 0,\n",
       " 'prep__categoric__onehot__categories': 'auto',\n",
       " 'prep__categoric__onehot__drop': None,\n",
       " 'prep__categoric__onehot__dtype': numpy.float64,\n",
       " 'prep__categoric__onehot__handle_unknown': 'ignore',\n",
       " 'prep__categoric__onehot__sparse': True,\n",
       " 'algo__base_score': 0.5,\n",
       " 'algo__booster': 'gbtree',\n",
       " 'algo__colsample_bylevel': 1,\n",
       " 'algo__colsample_bynode': 1,\n",
       " 'algo__colsample_bytree': 1,\n",
       " 'algo__gamma': 0,\n",
       " 'algo__importance_type': 'gain',\n",
       " 'algo__learning_rate': 0.1,\n",
       " 'algo__max_delta_step': 0,\n",
       " 'algo__max_depth': 3,\n",
       " 'algo__min_child_weight': 1,\n",
       " 'algo__missing': None,\n",
       " 'algo__n_estimators': 100,\n",
       " 'algo__n_jobs': -1,\n",
       " 'algo__nthread': None,\n",
       " 'algo__objective': 'reg:linear',\n",
       " 'algo__random_state': 42,\n",
       " 'algo__reg_alpha': 0,\n",
       " 'algo__reg_lambda': 1,\n",
       " 'algo__scale_pos_weight': 1,\n",
       " 'algo__seed': None,\n",
       " 'algo__silent': None,\n",
       " 'algo__subsample': 1,\n",
       " 'algo__verbosity': 1}"
      ]
     },
     "execution_count": 30,
     "metadata": {},
     "output_type": "execute_result"
    }
   ],
   "source": [
    "pipeline.get_params()"
   ]
  },
  {
   "cell_type": "code",
   "execution_count": 33,
   "metadata": {},
   "outputs": [
    {
     "name": "stdout",
     "output_type": "stream",
     "text": [
      "Fitting 5 folds for each of 7 candidates, totalling 35 fits\n"
     ]
    },
    {
     "name": "stderr",
     "output_type": "stream",
     "text": [
      "[Parallel(n_jobs=-1)]: Using backend LokyBackend with 8 concurrent workers.\n",
      "[Parallel(n_jobs=-1)]: Done  35 out of  35 | elapsed:   37.1s finished\n"
     ]
    },
    {
     "name": "stdout",
     "output_type": "stream",
     "text": [
      "[20:13:34] WARNING: src/objective/regression_obj.cu:152: reg:linear is now deprecated in favor of reg:squarederror.\n",
      "{'algo__booster': 'dart', 'algo__colsample_bytree': 0.8787900454010815, 'algo__gamma': 2, 'algo__learning_rate': 0.05047786565710607, 'algo__max_depth': 8, 'algo__n_estimators': 97, 'algo__reg_lambda': 0.006251373574521747, 'algo__subsample': 0.6546065241548528, 'prep__numeric__poly__degree': 10, 'prep__numeric__poly__interaction_only': True}\n",
      "0.6072059023465419 0.3041821640132006 0.3598784597973561\n"
     ]
    }
   ],
   "source": [
    "parameter_tune = {\n",
    "    'prep__numeric__poly__degree': Integer(low=8, high=10),\n",
    "    'prep__numeric__poly__interaction_only': [True, False],\n",
    "    'algo__booster': ['gbtree', 'gblinear', 'dart'],\n",
    "    'algo__max_depth': Integer(low=8, high=9),\n",
    "    'algo__learning_rate': [0.05047786565710607],\n",
    "    'algo__n_estimators': Integer(low=90, high=100),\n",
    "    'algo__subsample': Real(low=0.6, high=0.95, prior='uniform'),\n",
    "    'algo__gamma': Integer(low=0, high=2),\n",
    "    'algo__colsample_bytree': Real(low=0.6, high=0.95, prior='uniform'),\n",
    "    'algo__reg_lambda': Real(low=-4, high=-1, prior='log-uniform')\n",
    "}\n",
    "\n",
    "model = RandomizedSearchCV(pipeline, parameter_tune , cv=5, n_iter=7, n_jobs=-1, verbose=1, random_state=42)\n",
    "model.fit(X_train, y_train)\n",
    "\n",
    "print(model.best_params_)\n",
    "print(model.score(X_train, y_train), model.best_score_, model.score(X_test, y_test))"
   ]
  },
  {
   "cell_type": "markdown",
   "metadata": {},
   "source": [
    "# Evaluasi"
   ]
  },
  {
   "cell_type": "code",
   "execution_count": null,
   "metadata": {},
   "outputs": [],
   "source": [
    "from sklearn.metrics import mean_squared_error, mean_squared_log_error, r2_score\n",
    "from luwiji.metrics import illustration"
   ]
  },
  {
   "cell_type": "code",
   "execution_count": null,
   "metadata": {},
   "outputs": [],
   "source": [
    "illustration.sklearn_scoring"
   ]
  },
  {
   "cell_type": "code",
   "execution_count": null,
   "metadata": {},
   "outputs": [],
   "source": [
    "plot_residual(X_train, y_train, X_test, y_test, model)"
   ]
  },
  {
   "cell_type": "code",
   "execution_count": null,
   "metadata": {},
   "outputs": [],
   "source": [
    "mean_squared_error(y_train, model.predict(X_train))"
   ]
  },
  {
   "cell_type": "code",
   "execution_count": null,
   "metadata": {},
   "outputs": [],
   "source": [
    "mean_squared_log_error(y_test, model.predict(X_test))"
   ]
  },
  {
   "cell_type": "code",
   "execution_count": null,
   "metadata": {},
   "outputs": [],
   "source": [
    "r2_score(y_test, model.predict(X_test))"
   ]
  },
  {
   "cell_type": "code",
   "execution_count": null,
   "metadata": {},
   "outputs": [],
   "source": [
    "y_train"
   ]
  },
  {
   "cell_type": "code",
   "execution_count": null,
   "metadata": {},
   "outputs": [],
   "source": [
    "model.predict(X_train)"
   ]
  },
  {
   "cell_type": "code",
   "execution_count": null,
   "metadata": {},
   "outputs": [],
   "source": [
    "model.score()"
   ]
  }
 ],
 "metadata": {
  "kernelspec": {
   "display_name": "Python 3",
   "language": "python",
   "name": "python3"
  },
  "language_info": {
   "codemirror_mode": {
    "name": "ipython",
    "version": 3
   },
   "file_extension": ".py",
   "mimetype": "text/x-python",
   "name": "python",
   "nbconvert_exporter": "python",
   "pygments_lexer": "ipython3",
   "version": "3.7.6"
  }
 },
 "nbformat": 4,
 "nbformat_minor": 4
}
