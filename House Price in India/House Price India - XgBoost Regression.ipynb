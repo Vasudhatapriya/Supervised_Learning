{
 "cells": [
  {
   "cell_type": "code",
   "execution_count": 1,
   "metadata": {},
   "outputs": [],
   "source": [
    "import numpy as np\n",
    "import pandas as pd\n",
    "\n",
    "from sklearn.model_selection import train_test_split\n",
    "from sklearn.pipeline import Pipeline\n",
    "from sklearn.compose import ColumnTransformer\n",
    "\n",
    "from jcopml.pipeline import num_pipe, cat_pipe\n",
    "from jcopml.utils import save_model, load_model\n",
    "from jcopml.plot import plot_missing_value, plot_residual\n",
    "from jcopml.feature_importance import mean_score_decrease\n",
    "\n",
    "import matplotlib.pyplot as plt\n",
    "import seaborn as sns"
   ]
  },
  {
   "cell_type": "markdown",
   "metadata": {},
   "source": [
    "# Import Datasets"
   ]
  },
  {
   "cell_type": "code",
   "execution_count": 2,
   "metadata": {
    "scrolled": true
   },
   "outputs": [
    {
     "data": {
      "text/html": [
       "<div>\n",
       "<style scoped>\n",
       "    .dataframe tbody tr th:only-of-type {\n",
       "        vertical-align: middle;\n",
       "    }\n",
       "\n",
       "    .dataframe tbody tr th {\n",
       "        vertical-align: top;\n",
       "    }\n",
       "\n",
       "    .dataframe thead th {\n",
       "        text-align: right;\n",
       "    }\n",
       "</style>\n",
       "<table border=\"1\" class=\"dataframe\">\n",
       "  <thead>\n",
       "    <tr style=\"text-align: right;\">\n",
       "      <th></th>\n",
       "      <th>Price</th>\n",
       "      <th>Area</th>\n",
       "      <th>Location</th>\n",
       "      <th>No. of Bedrooms</th>\n",
       "      <th>Resale</th>\n",
       "      <th>MaintenanceStaff</th>\n",
       "      <th>Gymnasium</th>\n",
       "      <th>SwimmingPool</th>\n",
       "      <th>LandscapedGardens</th>\n",
       "      <th>JoggingTrack</th>\n",
       "      <th>...</th>\n",
       "      <th>LiftAvailable</th>\n",
       "      <th>BED</th>\n",
       "      <th>VaastuCompliant</th>\n",
       "      <th>Microwave</th>\n",
       "      <th>GolfCourse</th>\n",
       "      <th>TV</th>\n",
       "      <th>DiningTable</th>\n",
       "      <th>Sofa</th>\n",
       "      <th>Wardrobe</th>\n",
       "      <th>Refrigerator</th>\n",
       "    </tr>\n",
       "  </thead>\n",
       "  <tbody>\n",
       "    <tr>\n",
       "      <th>0</th>\n",
       "      <td>30000000</td>\n",
       "      <td>3340</td>\n",
       "      <td>JP Nagar Phase 1</td>\n",
       "      <td>4</td>\n",
       "      <td>0</td>\n",
       "      <td>1</td>\n",
       "      <td>1</td>\n",
       "      <td>1</td>\n",
       "      <td>1</td>\n",
       "      <td>1</td>\n",
       "      <td>...</td>\n",
       "      <td>1</td>\n",
       "      <td>0</td>\n",
       "      <td>0</td>\n",
       "      <td>0</td>\n",
       "      <td>0</td>\n",
       "      <td>0</td>\n",
       "      <td>0</td>\n",
       "      <td>0</td>\n",
       "      <td>0</td>\n",
       "      <td>0</td>\n",
       "    </tr>\n",
       "    <tr>\n",
       "      <th>1</th>\n",
       "      <td>7888000</td>\n",
       "      <td>1045</td>\n",
       "      <td>Dasarahalli on Tumkur Road</td>\n",
       "      <td>2</td>\n",
       "      <td>0</td>\n",
       "      <td>0</td>\n",
       "      <td>1</td>\n",
       "      <td>1</td>\n",
       "      <td>1</td>\n",
       "      <td>1</td>\n",
       "      <td>...</td>\n",
       "      <td>1</td>\n",
       "      <td>0</td>\n",
       "      <td>1</td>\n",
       "      <td>0</td>\n",
       "      <td>0</td>\n",
       "      <td>0</td>\n",
       "      <td>0</td>\n",
       "      <td>0</td>\n",
       "      <td>0</td>\n",
       "      <td>0</td>\n",
       "    </tr>\n",
       "    <tr>\n",
       "      <th>2</th>\n",
       "      <td>4866000</td>\n",
       "      <td>1179</td>\n",
       "      <td>Kannur on Thanisandra Main Road</td>\n",
       "      <td>2</td>\n",
       "      <td>0</td>\n",
       "      <td>0</td>\n",
       "      <td>1</td>\n",
       "      <td>1</td>\n",
       "      <td>1</td>\n",
       "      <td>1</td>\n",
       "      <td>...</td>\n",
       "      <td>1</td>\n",
       "      <td>0</td>\n",
       "      <td>0</td>\n",
       "      <td>0</td>\n",
       "      <td>0</td>\n",
       "      <td>0</td>\n",
       "      <td>0</td>\n",
       "      <td>0</td>\n",
       "      <td>0</td>\n",
       "      <td>0</td>\n",
       "    </tr>\n",
       "    <tr>\n",
       "      <th>3</th>\n",
       "      <td>8358000</td>\n",
       "      <td>1675</td>\n",
       "      <td>Doddanekundi</td>\n",
       "      <td>3</td>\n",
       "      <td>0</td>\n",
       "      <td>0</td>\n",
       "      <td>0</td>\n",
       "      <td>0</td>\n",
       "      <td>0</td>\n",
       "      <td>0</td>\n",
       "      <td>...</td>\n",
       "      <td>1</td>\n",
       "      <td>0</td>\n",
       "      <td>0</td>\n",
       "      <td>0</td>\n",
       "      <td>0</td>\n",
       "      <td>0</td>\n",
       "      <td>0</td>\n",
       "      <td>0</td>\n",
       "      <td>0</td>\n",
       "      <td>0</td>\n",
       "    </tr>\n",
       "    <tr>\n",
       "      <th>4</th>\n",
       "      <td>6845000</td>\n",
       "      <td>1670</td>\n",
       "      <td>Kengeri</td>\n",
       "      <td>3</td>\n",
       "      <td>0</td>\n",
       "      <td>1</td>\n",
       "      <td>1</td>\n",
       "      <td>1</td>\n",
       "      <td>1</td>\n",
       "      <td>1</td>\n",
       "      <td>...</td>\n",
       "      <td>1</td>\n",
       "      <td>0</td>\n",
       "      <td>0</td>\n",
       "      <td>0</td>\n",
       "      <td>0</td>\n",
       "      <td>0</td>\n",
       "      <td>0</td>\n",
       "      <td>0</td>\n",
       "      <td>0</td>\n",
       "      <td>0</td>\n",
       "    </tr>\n",
       "  </tbody>\n",
       "</table>\n",
       "<p>5 rows × 40 columns</p>\n",
       "</div>"
      ],
      "text/plain": [
       "      Price  Area                         Location  No. of Bedrooms  Resale  \\\n",
       "0  30000000  3340                 JP Nagar Phase 1                4       0   \n",
       "1   7888000  1045       Dasarahalli on Tumkur Road                2       0   \n",
       "2   4866000  1179  Kannur on Thanisandra Main Road                2       0   \n",
       "3   8358000  1675                     Doddanekundi                3       0   \n",
       "4   6845000  1670                          Kengeri                3       0   \n",
       "\n",
       "   MaintenanceStaff  Gymnasium  SwimmingPool  LandscapedGardens  JoggingTrack  \\\n",
       "0                 1          1             1                  1             1   \n",
       "1                 0          1             1                  1             1   \n",
       "2                 0          1             1                  1             1   \n",
       "3                 0          0             0                  0             0   \n",
       "4                 1          1             1                  1             1   \n",
       "\n",
       "   ...  LiftAvailable  BED  VaastuCompliant  Microwave  GolfCourse  TV  \\\n",
       "0  ...              1    0                0          0           0   0   \n",
       "1  ...              1    0                1          0           0   0   \n",
       "2  ...              1    0                0          0           0   0   \n",
       "3  ...              1    0                0          0           0   0   \n",
       "4  ...              1    0                0          0           0   0   \n",
       "\n",
       "   DiningTable  Sofa  Wardrobe  Refrigerator  \n",
       "0            0     0         0             0  \n",
       "1            0     0         0             0  \n",
       "2            0     0         0             0  \n",
       "3            0     0         0             0  \n",
       "4            0     0         0             0  \n",
       "\n",
       "[5 rows x 40 columns]"
      ]
     },
     "execution_count": 2,
     "metadata": {},
     "output_type": "execute_result"
    }
   ],
   "source": [
    "bangalore = pd.read_csv(\"datasets/Bangalore.csv\")\n",
    "chennai = pd.read_csv(\"datasets/Chennai.csv\")\n",
    "\n",
    "# gabungkan file tersebut dan namai dengan df\n",
    "df = pd.concat([bangalore, chennai])\n",
    "\n",
    "# bikin index ulang.\n",
    "df = df.reset_index()\n",
    "\n",
    "# hapus colom index lama.\n",
    "df.drop(columns=\"index\", inplace=True)\n",
    "\n",
    "# tampilkan 5 data\n",
    "df.head()"
   ]
  },
  {
   "cell_type": "markdown",
   "metadata": {},
   "source": [
    "# Cek Data Bolong"
   ]
  },
  {
   "cell_type": "code",
   "execution_count": 3,
   "metadata": {},
   "outputs": [
    {
     "data": {
      "text/plain": [
       "Price                  0\n",
       "Area                   0\n",
       "Location               0\n",
       "No. of Bedrooms        0\n",
       "Resale                 0\n",
       "MaintenanceStaff       0\n",
       "Gymnasium              0\n",
       "SwimmingPool           0\n",
       "LandscapedGardens      0\n",
       "JoggingTrack           0\n",
       "RainWaterHarvesting    0\n",
       "IndoorGames            0\n",
       "ShoppingMall           0\n",
       "Intercom               0\n",
       "SportsFacility         0\n",
       "ATM                    0\n",
       "ClubHouse              0\n",
       "School                 0\n",
       "24X7Security           0\n",
       "PowerBackup            0\n",
       "CarParking             0\n",
       "StaffQuarter           0\n",
       "Cafeteria              0\n",
       "MultipurposeRoom       0\n",
       "Hospital               0\n",
       "WashingMachine         0\n",
       "Gasconnection          0\n",
       "AC                     0\n",
       "Wifi                   0\n",
       "Children'splayarea     0\n",
       "LiftAvailable          0\n",
       "BED                    0\n",
       "VaastuCompliant        0\n",
       "Microwave              0\n",
       "GolfCourse             0\n",
       "TV                     0\n",
       "DiningTable            0\n",
       "Sofa                   0\n",
       "Wardrobe               0\n",
       "Refrigerator           0\n",
       "dtype: int64"
      ]
     },
     "execution_count": 3,
     "metadata": {},
     "output_type": "execute_result"
    }
   ],
   "source": [
    "df.isna().sum()"
   ]
  },
  {
   "cell_type": "markdown",
   "metadata": {},
   "source": [
    "# Visualize\n",
    "### Data Target"
   ]
  },
  {
   "cell_type": "code",
   "execution_count": 4,
   "metadata": {},
   "outputs": [
    {
     "data": {
      "image/png": "[encoded data removed]",
      "text/plain": [
       "<Figure size 720x288 with 1 Axes>"
      ]
     },
     "metadata": {
      "needs_background": "light"
     },
     "output_type": "display_data"
    }
   ],
   "source": [
    "plt.figure(figsize=(10, 4))\n",
    "ax = sns.distplot(df[\"Price\"], bins=100)\n",
    "plt.show()"
   ]
  },
  {
   "cell_type": "markdown",
   "metadata": {},
   "source": [
    "### Data kolom Area"
   ]
  },
  {
   "cell_type": "code",
   "execution_count": 5,
   "metadata": {},
   "outputs": [
    {
     "data": {
      "image/png": "[encoded data removed]",
      "text/plain": [
       "<Figure size 720x288 with 1 Axes>"
      ]
     },
     "metadata": {
      "needs_background": "light"
     },
     "output_type": "display_data"
    }
   ],
   "source": [
    "plt.figure(figsize=(10, 4))\n",
    "ax = sns.distplot(df[\"Price\"], bins=100, color='r')\n",
    "plt.show()"
   ]
  },
  {
   "cell_type": "markdown",
   "metadata": {},
   "source": [
    "# Datasets Splitting"
   ]
  },
  {
   "cell_type": "code",
   "execution_count": 6,
   "metadata": {},
   "outputs": [
    {
     "data": {
      "text/plain": [
       "((8976, 39), (2245, 39), (8976,), (2245,))"
      ]
     },
     "execution_count": 6,
     "metadata": {},
     "output_type": "execute_result"
    }
   ],
   "source": [
    "X = df.drop(columns=\"Price\")\n",
    "y = df[\"Price\"]\n",
    "\n",
    "X_train, X_test, y_train, y_test = train_test_split(X, y, test_size=0.2, random_state=42)\n",
    "X_train.shape, X_test.shape, y_train.shape, y_test.shape"
   ]
  },
  {
   "cell_type": "markdown",
   "metadata": {},
   "source": [
    "# Think Simple\n",
    "### Preprocessor"
   ]
  },
  {
   "cell_type": "code",
   "execution_count": 7,
   "metadata": {},
   "outputs": [],
   "source": [
    "from xgboost import XGBRegressor"
   ]
  },
  {
   "cell_type": "code",
   "execution_count": 8,
   "metadata": {},
   "outputs": [],
   "source": [
    "preprocessor = ColumnTransformer([\n",
    "    ('numeric', num_pipe(), [\"Area\", \"No. of Bedrooms\"]),\n",
    "    ('categoric', cat_pipe(encoder='onehot'), [\"Location\",'Resale', 'MaintenanceStaff', 'Gymnasium', 'SwimmingPool',\n",
    "                                               'LandscapedGardens', 'JoggingTrack', 'RainWaterHarvesting', 'IndoorGames',\n",
    "                                               'ShoppingMall', 'Intercom', 'SportsFacility', 'ATM', 'ClubHouse', 'School',\n",
    "                                               '24X7Security', 'PowerBackup', 'CarParking', 'StaffQuarter', 'Cafeteria',\n",
    "                                               'MultipurposeRoom', 'Hospital', 'WashingMachine', 'Gasconnection', 'AC', 'Wifi',\n",
    "                                               \"Children'splayarea\", 'LiftAvailable', 'BED', 'VaastuCompliant', 'Microwave',\n",
    "                                               'GolfCourse', 'TV', 'DiningTable', 'Sofa', 'Wardrobe', 'Refrigerator']),\n",
    "])\n",
    "\n",
    "pipeline = Pipeline([\n",
    "    ('prep', preprocessor),\n",
    "    ('algo', XGBRegressor(n_jobs=-1, random_state=42))\n",
    "])"
   ]
  },
  {
   "cell_type": "markdown",
   "metadata": {},
   "source": [
    "### Training"
   ]
  },
  {
   "cell_type": "code",
   "execution_count": 9,
   "metadata": {},
   "outputs": [],
   "source": [
    "from sklearn.model_selection import RandomizedSearchCV\n",
    "from jcopml.tuning import random_search_params as rsp"
   ]
  },
  {
   "cell_type": "code",
   "execution_count": 10,
   "metadata": {},
   "outputs": [
    {
     "name": "stdout",
     "output_type": "stream",
     "text": [
      "Fitting 3 folds for each of 20 candidates, totalling 60 fits\n"
     ]
    },
    {
     "name": "stderr",
     "output_type": "stream",
     "text": [
      "[Parallel(n_jobs=-1)]: Using backend LokyBackend with 8 concurrent workers.\n",
      "[Parallel(n_jobs=-1)]: Done  34 tasks      | elapsed:   14.0s\n",
      "[Parallel(n_jobs=-1)]: Done  60 out of  60 | elapsed:   20.9s finished\n"
     ]
    },
    {
     "name": "stdout",
     "output_type": "stream",
     "text": [
      "[20:49:07] WARNING: src/objective/regression_obj.cu:152: reg:linear is now deprecated in favor of reg:squarederror.\n",
      "{'algo__colsample_bytree': 0.42066805426927745, 'algo__gamma': 1, 'algo__learning_rate': 0.035015835937029005, 'algo__max_depth': 9, 'algo__n_estimators': 176, 'algo__reg_alpha': 2.772824182801065, 'algo__reg_lambda': 0.0010661259689433889, 'algo__subsample': 0.5553736512887829}\n",
      "0.5839457101335508 0.30942894271104165 0.3815391360098812\n"
     ]
    }
   ],
   "source": [
    "model = RandomizedSearchCV(pipeline, rsp.xgb_params , cv=3, n_iter=20, n_jobs=-1, verbose=1, random_state=42)\n",
    "model.fit(X_train, y_train)\n",
    "\n",
    "print(model.best_params_)\n",
    "print(model.score(X_train, y_train), model.best_score_, model.score(X_test, y_test))"
   ]
  },
  {
   "cell_type": "markdown",
   "metadata": {},
   "source": [
    "# Feature Importance"
   ]
  },
  {
   "cell_type": "code",
   "execution_count": 11,
   "metadata": {},
   "outputs": [
    {
     "data": {
      "image/png": "[encoded data removed]",
      "text/plain": [
       "<Figure size 1080x360 with 1 Axes>"
      ]
     },
     "metadata": {
      "needs_background": "light"
     },
     "output_type": "display_data"
    }
   ],
   "source": [
    "df_imp = mean_score_decrease(X_train, y_train, model, plot=True, topk=10)"
   ]
  },
  {
   "cell_type": "markdown",
   "metadata": {},
   "source": [
    "# Reduce columns\n",
    "### Preprocessor - Training"
   ]
  },
  {
   "cell_type": "code",
   "execution_count": 12,
   "metadata": {},
   "outputs": [
    {
     "name": "stdout",
     "output_type": "stream",
     "text": [
      "Fitting 3 folds for each of 30 candidates, totalling 90 fits\n"
     ]
    },
    {
     "name": "stderr",
     "output_type": "stream",
     "text": [
      "[Parallel(n_jobs=-1)]: Using backend LokyBackend with 8 concurrent workers.\n",
      "[Parallel(n_jobs=-1)]: Done  34 tasks      | elapsed:    4.3s\n",
      "[Parallel(n_jobs=-1)]: Done  90 out of  90 | elapsed:    9.7s finished\n"
     ]
    },
    {
     "name": "stdout",
     "output_type": "stream",
     "text": [
      "[20:50:00] WARNING: src/objective/regression_obj.cu:152: reg:linear is now deprecated in favor of reg:squarederror.\n",
      "{'algo__colsample_bytree': 0.2583327274096109, 'algo__gamma': 4, 'algo__learning_rate': 0.02981935017114935, 'algo__max_depth': 5, 'algo__n_estimators': 147, 'algo__reg_alpha': 0.968201208688247, 'algo__reg_lambda': 0.3967633935744863, 'algo__subsample': 0.7246117052470891}\n",
      "0.4185116573796829 0.326715663736643 0.3675299132526214\n"
     ]
    }
   ],
   "source": [
    "preprocessor = ColumnTransformer([\n",
    "    ('numeric', num_pipe(), [\"Area\", \"No. of Bedrooms\"]),\n",
    "    ('categoric', cat_pipe(encoder='onehot'), [\"Location\",'Resale', 'MaintenanceStaff', 'ATM', 'Cafeteria'])\n",
    "])\n",
    "\n",
    "pipeline = Pipeline([\n",
    "    ('prep', preprocessor),\n",
    "    ('algo', XGBRegressor(n_jobs=-1, random_state=42))\n",
    "])\n",
    "\n",
    "model = RandomizedSearchCV(pipeline, rsp.xgb_params , cv=3, n_iter=30, n_jobs=-1, verbose=1, random_state=42)\n",
    "model.fit(X_train, y_train)\n",
    "\n",
    "print(model.best_params_)\n",
    "print(model.score(X_train, y_train), model.best_score_, model.score(X_test, y_test))"
   ]
  },
  {
   "cell_type": "markdown",
   "metadata": {},
   "source": [
    "# Tuning\n",
    "### Preprocessor - Training"
   ]
  },
  {
   "cell_type": "code",
   "execution_count": 13,
   "metadata": {},
   "outputs": [],
   "source": [
    "from jcopml.tuning.space import Integer, Real"
   ]
  },
  {
   "cell_type": "code",
   "execution_count": 14,
   "metadata": {},
   "outputs": [],
   "source": [
    "parameter_tune = {\n",
    "    'prep__numeric__poly__degree': Integer(low=1, high=3),\n",
    "    'prep__numeric__poly__interaction_only': [True, False],\n",
    "    'algo__max_depth': Integer(low=1, high=10),\n",
    "    'algo__learning_rate': Real(low=-2, high=0, prior='log-uniform'),\n",
    "    'algo__n_estimators': Integer(low=100, high=200),\n",
    "    'algo__subsample': Real(low=0.3, high=0.8, prior='uniform'),\n",
    "    'algo__gamma': Integer(low=1, high=10),\n",
    "    'algo__colsample_bytree': Real(low=0.1, high=1, prior='uniform'),\n",
    "    'algo__reg_alpha': Real(low=-3, high=1, prior='log-uniform'),\n",
    "    'algo__reg_lambda': Real(low=-3, high=1, prior='log-uniform')\n",
    "}"
   ]
  },
  {
   "cell_type": "code",
   "execution_count": 15,
   "metadata": {},
   "outputs": [
    {
     "name": "stdout",
     "output_type": "stream",
     "text": [
      "Fitting 3 folds for each of 40 candidates, totalling 120 fits\n"
     ]
    },
    {
     "name": "stderr",
     "output_type": "stream",
     "text": [
      "[Parallel(n_jobs=-1)]: Using backend LokyBackend with 8 concurrent workers.\n",
      "[Parallel(n_jobs=-1)]: Done  34 tasks      | elapsed:    5.9s\n",
      "[Parallel(n_jobs=-1)]: Done 120 out of 120 | elapsed:   17.0s finished\n"
     ]
    },
    {
     "name": "stdout",
     "output_type": "stream",
     "text": [
      "[20:50:18] WARNING: src/objective/regression_obj.cu:152: reg:linear is now deprecated in favor of reg:squarederror.\n",
      "{'algo__colsample_bytree': 0.2559648880637612, 'algo__gamma': 1, 'algo__learning_rate': 0.07668394719536059, 'algo__max_depth': 6, 'algo__n_estimators': 147, 'algo__reg_alpha': 0.005388451626382902, 'algo__reg_lambda': 5.475906062783612, 'algo__subsample': 0.6191352969216752, 'prep__numeric__poly__degree': 1, 'prep__numeric__poly__interaction_only': True}\n",
      "0.4362264414114792 0.3365310352927784 0.37849603984967284\n"
     ]
    }
   ],
   "source": [
    "preprocessor = ColumnTransformer([\n",
    "    ('numeric', num_pipe(poly=2), [\"Area\", \"No. of Bedrooms\"]),\n",
    "    ('categoric', cat_pipe(encoder='onehot'), [\"Location\",'Resale', 'MaintenanceStaff', 'ATM', 'Cafeteria'])\n",
    "])\n",
    "\n",
    "pipeline = Pipeline([\n",
    "    ('prep', preprocessor),\n",
    "    ('algo', XGBRegressor(n_jobs=-1, random_state=42))\n",
    "])\n",
    "\n",
    "model = RandomizedSearchCV(pipeline, parameter_tune , cv=3, n_iter=40, n_jobs=-1, verbose=1, random_state=42)\n",
    "model.fit(X_train, y_train)\n",
    "\n",
    "print(model.best_params_)\n",
    "print(model.score(X_train, y_train), model.best_score_, model.score(X_test, y_test))"
   ]
  },
  {
   "cell_type": "markdown",
   "metadata": {},
   "source": [
    "# Tuning part 2"
   ]
  },
  {
   "cell_type": "code",
   "execution_count": 16,
   "metadata": {},
   "outputs": [
    {
     "name": "stderr",
     "output_type": "stream",
     "text": [
      "C:\\Users\\ROG\\anaconda3\\lib\\site-packages\\jcopml\\pipeline\\_pipeline.py:65: UserWarning: Transformer has default standardization, so the scaling argument is neglected\n",
      "  warn(\"Transformer has default standardization, so the scaling argument is neglected\")\n"
     ]
    },
    {
     "name": "stdout",
     "output_type": "stream",
     "text": [
      "Fitting 3 folds for each of 40 candidates, totalling 120 fits\n"
     ]
    },
    {
     "name": "stderr",
     "output_type": "stream",
     "text": [
      "[Parallel(n_jobs=-1)]: Using backend LokyBackend with 8 concurrent workers.\n",
      "[Parallel(n_jobs=-1)]: Done  34 tasks      | elapsed:    5.5s\n",
      "[Parallel(n_jobs=-1)]: Done 120 out of 120 | elapsed:   18.4s finished\n",
      "C:\\Users\\ROG\\anaconda3\\lib\\site-packages\\sklearn\\preprocessing\\_data.py:2982: RuntimeWarning: divide by zero encountered in log\n",
      "  loglike = -n_samples / 2 * np.log(x_trans.var())\n"
     ]
    },
    {
     "name": "stdout",
     "output_type": "stream",
     "text": [
      "[20:50:38] WARNING: src/objective/regression_obj.cu:152: reg:linear is now deprecated in favor of reg:squarederror.\n",
      "{'algo__colsample_bytree': 0.2559648880637612, 'algo__gamma': 1, 'algo__learning_rate': 0.07668394719536059, 'algo__max_depth': 6, 'algo__n_estimators': 147, 'algo__reg_alpha': 0.005388451626382902, 'algo__reg_lambda': 5.475906062783612, 'algo__subsample': 0.6191352969216752, 'prep__numeric__poly__degree': 1, 'prep__numeric__poly__interaction_only': True}\n",
      "0.4362291730763335 0.3158327664478045 0.37849390247293124\n"
     ]
    }
   ],
   "source": [
    "preprocessor = ColumnTransformer([\n",
    "    ('numeric', num_pipe(poly=2, scaling='minmax', transform='yeo-johnson'), [\"Area\", \"No. of Bedrooms\"]),\n",
    "    ('categoric', cat_pipe(encoder='onehot'), [\"Location\",'Resale', 'MaintenanceStaff', 'ATM', 'Cafeteria'])\n",
    "])\n",
    "\n",
    "pipeline = Pipeline([\n",
    "    ('prep', preprocessor),\n",
    "    ('algo', XGBRegressor(n_jobs=-1, random_state=42))\n",
    "])\n",
    "\n",
    "parameter_tune = {\n",
    "    'prep__numeric__poly__degree': Integer(low=1, high=3),\n",
    "    'prep__numeric__poly__interaction_only': [True, False],\n",
    "    'algo__max_depth': Integer(low=1, high=10),\n",
    "    'algo__learning_rate': Real(low=-2, high=0, prior='log-uniform'),\n",
    "    'algo__n_estimators': Integer(low=100, high=200),\n",
    "    'algo__subsample': Real(low=0.3, high=0.8, prior='uniform'),\n",
    "    'algo__gamma': Integer(low=1, high=10),\n",
    "    'algo__colsample_bytree': Real(low=0.1, high=1, prior='uniform'),\n",
    "    'algo__reg_alpha': Real(low=-3, high=1, prior='log-uniform'),\n",
    "    'algo__reg_lambda': Real(low=-3, high=1, prior='log-uniform')\n",
    "}\n",
    "\n",
    "model = RandomizedSearchCV(pipeline, parameter_tune , cv=3, n_iter=40, n_jobs=-1, verbose=1, random_state=42)\n",
    "model.fit(X_train, y_train)\n",
    "\n",
    "print(model.best_params_)\n",
    "print(model.score(X_train, y_train), model.best_score_, model.score(X_test, y_test))"
   ]
  },
  {
   "cell_type": "markdown",
   "metadata": {},
   "source": [
    "# Tuning part 3\n",
    "Preprocessor - Training"
   ]
  },
  {
   "cell_type": "code",
   "execution_count": 21,
   "metadata": {
    "scrolled": true
   },
   "outputs": [
    {
     "name": "stderr",
     "output_type": "stream",
     "text": [
      "C:\\Users\\ROG\\anaconda3\\lib\\site-packages\\jcopml\\pipeline\\_pipeline.py:65: UserWarning: Transformer has default standardization, so the scaling argument is neglected\n",
      "  warn(\"Transformer has default standardization, so the scaling argument is neglected\")\n"
     ]
    },
    {
     "name": "stdout",
     "output_type": "stream",
     "text": [
      "Fitting 3 folds for each of 60 candidates, totalling 180 fits\n"
     ]
    },
    {
     "name": "stderr",
     "output_type": "stream",
     "text": [
      "[Parallel(n_jobs=-1)]: Using backend LokyBackend with 8 concurrent workers.\n",
      "[Parallel(n_jobs=-1)]: Done  34 tasks      | elapsed:    5.3s\n",
      "[Parallel(n_jobs=-1)]: Done 180 out of 180 | elapsed:   33.9s finished\n",
      "C:\\Users\\ROG\\anaconda3\\lib\\site-packages\\sklearn\\preprocessing\\_data.py:2982: RuntimeWarning: divide by zero encountered in log\n",
      "  loglike = -n_samples / 2 * np.log(x_trans.var())\n"
     ]
    },
    {
     "name": "stdout",
     "output_type": "stream",
     "text": [
      "[20:54:34] WARNING: src/objective/regression_obj.cu:152: reg:linear is now deprecated in favor of reg:squarederror.\n",
      "{'algo__colsample_bytree': 0.5589646587000141, 'algo__gamma': 2, 'algo__learning_rate': 0.522752794541887, 'algo__max_depth': 8, 'algo__n_estimators': 6, 'algo__reg_alpha': 0.1122626327850094, 'algo__reg_lambda': 0.861608720907426, 'algo__subsample': 0.600338608949465, 'prep__numeric__poly__degree': 2, 'prep__numeric__poly__interaction_only': True}\n",
      "0.5016342090003042 0.27599190454994477 0.3395955475072505\n"
     ]
    }
   ],
   "source": [
    "preprocessor = ColumnTransformer([\n",
    "    ('numeric', num_pipe(poly=2, scaling='standard', transform ='yeo-johnson'), [\"Area\", \"No. of Bedrooms\"]),\n",
    "    ('categoric', cat_pipe(encoder='onehot'), [\"Location\",'Resale', 'MaintenanceStaff', 'ATM', 'Cafeteria'])\n",
    "])\n",
    "\n",
    "pipeline = Pipeline([\n",
    "    ('prep', preprocessor),\n",
    "    ('algo', XGBRegressor(n_jobs=-1, random_state=42))\n",
    "])\n",
    "\n",
    "parameter_tune = {\n",
    "    'prep__numeric__poly__degree': Integer(low=2, high=3),\n",
    "    'prep__numeric__poly__interaction_only': [True, False],\n",
    "    'algo__max_depth': Integer(low=6, high=8),\n",
    "    'algo__learning_rate': Real(low=-3, high=0, prior='log-uniform'),\n",
    "    'algo__n_estimators': Integer(low=5, high=8),\n",
    "    'algo__subsample': Real(low=0.5, high=0.65, prior='uniform'),\n",
    "    'algo__gamma': Integer(low=1, high=2),\n",
    "    'algo__colsample_bytree': Real(low=0.5, high=0.65, prior='uniform'),\n",
    "    'algo__reg_alpha': Real(low=-2, high=1, prior='log-uniform'),\n",
    "    'algo__reg_lambda': Real(low=-2, high=1, prior='log-uniform')\n",
    "}\n",
    "\n",
    "model = RandomizedSearchCV(pipeline, parameter_tune , cv=3, n_iter=60, n_jobs=-1, verbose=1, random_state=42)\n",
    "model.fit(X_train, y_train)\n",
    "\n",
    "print(model.best_params_)\n",
    "print(model.score(X_train, y_train), model.best_score_, model.score(X_test, y_test))"
   ]
  },
  {
   "cell_type": "markdown",
   "metadata": {},
   "source": [
    "# Evaluasi"
   ]
  },
  {
   "cell_type": "code",
   "execution_count": 22,
   "metadata": {},
   "outputs": [
    {
     "data": {
      "image/png": "[encoded data removed]",
      "text/plain": [
       "<Figure size 1080x360 with 2 Axes>"
      ]
     },
     "metadata": {
      "needs_background": "light"
     },
     "output_type": "display_data"
    }
   ],
   "source": [
    "plot_residual(X_train, y_train, X_test, y_test, model)"
   ]
  },
  {
   "cell_type": "code",
   "execution_count": null,
   "metadata": {},
   "outputs": [],
   "source": []
  }
 ],
 "metadata": {
  "kernelspec": {
   "display_name": "Python 3",
   "language": "python",
   "name": "python3"
  },
  "language_info": {
   "codemirror_mode": {
    "name": "ipython",
    "version": 3
   },
   "file_extension": ".py",
   "mimetype": "text/x-python",
   "name": "python",
   "nbconvert_exporter": "python",
   "pygments_lexer": "ipython3",
   "version": "3.7.6"
  }
 },
 "nbformat": 4,
 "nbformat_minor": 4
}
